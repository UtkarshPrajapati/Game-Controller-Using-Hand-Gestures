{
 "cells": [
  {
   "cell_type": "code",
   "execution_count": 3,
   "metadata": {},
   "outputs": [
    {
     "ename": "NameError",
     "evalue": "name 'i' is not defined",
     "output_type": "error",
     "traceback": [
      "\u001b[1;31m---------------------------------------------------------------------------\u001b[0m",
      "\u001b[1;31mNameError\u001b[0m                                 Traceback (most recent call last)",
      "\u001b[1;32mc:\\Users\\utkar\\Coding\\Game Controller Using Hand Gestures\\main.ipynb Cell 1\u001b[0m in \u001b[0;36m<cell line: 17>\u001b[1;34m()\u001b[0m\n\u001b[0;32m     <a href='vscode-notebook-cell:/c%3A/Users/utkar/Coding/Game%20Controller%20Using%20Hand%20Gestures/main.ipynb#W0sZmlsZQ%3D%3D?line=13'>14</a>\u001b[0m         \u001b[39mif\u001b[39;00m coor \u001b[39mis\u001b[39;00m \u001b[39mnot\u001b[39;00m \u001b[39mNone\u001b[39;00m:\n\u001b[0;32m     <a href='vscode-notebook-cell:/c%3A/Users/utkar/Coding/Game%20Controller%20Using%20Hand%20Gestures/main.ipynb#W0sZmlsZQ%3D%3D?line=14'>15</a>\u001b[0m             cv2\u001b[39m.\u001b[39mputText(frame,\u001b[39mstr\u001b[39m(coor),(coor[\u001b[39m0\u001b[39m]\u001b[39m+\u001b[39m\u001b[39m20\u001b[39m,coor[\u001b[39m1\u001b[39m]\u001b[39m+\u001b[39m\u001b[39m20\u001b[39m),cv2\u001b[39m.\u001b[39mFONT_HERSHEY_SIMPLEX, \u001b[39m1\u001b[39m, (\u001b[39m255\u001b[39m,\u001b[39m0\u001b[39m, \u001b[39m0\u001b[39m), \u001b[39m2\u001b[39m)\n\u001b[1;32m---> <a href='vscode-notebook-cell:/c%3A/Users/utkar/Coding/Game%20Controller%20Using%20Hand%20Gestures/main.ipynb#W0sZmlsZQ%3D%3D?line=16'>17</a>\u001b[0m coor \u001b[39m=\u001b[39m mediapipe\u001b[39m.\u001b[39msolutions\u001b[39m.\u001b[39mdrawing_utils\u001b[39m.\u001b[39m_normalized_to_pixel_coordinates(i\u001b[39m.\u001b[39mx,i\u001b[39m.\u001b[39my,fw,fh)\n\u001b[0;32m     <a href='vscode-notebook-cell:/c%3A/Users/utkar/Coding/Game%20Controller%20Using%20Hand%20Gestures/main.ipynb#W0sZmlsZQ%3D%3D?line=17'>18</a>\u001b[0m \u001b[39mwith\u001b[39;00m mediapipe\u001b[39m.\u001b[39msolutions\u001b[39m.\u001b[39mhands\u001b[39m.\u001b[39mHands(static_image_mode\u001b[39m=\u001b[39m\u001b[39mFalse\u001b[39;00m, min_detection_confidence\u001b[39m=\u001b[39m\u001b[39m0.7\u001b[39m, min_tracking_confidence\u001b[39m=\u001b[39m\u001b[39m0.7\u001b[39m, max_num_hands\u001b[39m=\u001b[39m\u001b[39m1\u001b[39m) \u001b[39mas\u001b[39;00m hands:\n\u001b[0;32m     <a href='vscode-notebook-cell:/c%3A/Users/utkar/Coding/Game%20Controller%20Using%20Hand%20Gestures/main.ipynb#W0sZmlsZQ%3D%3D?line=18'>19</a>\u001b[0m     \u001b[39mwhile\u001b[39;00m capture\u001b[39m.\u001b[39misOpened():\n",
      "\u001b[1;31mNameError\u001b[0m: name 'i' is not defined"
     ]
    }
   ],
   "source": [
    "import cv2\n",
    "import numpy as np\n",
    "import mediapipe\n",
    "import matplotlib.pyplot as plt\n",
    "import pyautogui\n",
    "import mouse\n",
    "capture = cv2.VideoCapture(0)\n",
    "fw = capture.get(cv2.CAP_PROP_FRAME_WIDTH)\n",
    "fh = capture.get(cv2.CAP_PROP_FRAME_HEIGHT)\n",
    "\n",
    "def show(i):\n",
    "    if i is not None:\n",
    "        coor = mediapipe.solutions.drawing_utils._normalized_to_pixel_coordinates(i.x,i.y,fw,fh)\n",
    "        if coor is not None:\n",
    "            cv2.putText(frame,str(coor),(coor[0]+20,coor[1]+20),cv2.FONT_HERSHEY_SIMPLEX, 1, (255,0, 0), 2)\n",
    "\n",
    "coor = mediapipe.solutions.drawing_utils._normalized_to_pixel_coordinates(i.x,i.y,fw,fh)\n",
    "with mediapipe.solutions.hands.Hands(static_image_mode=False, min_detection_confidence=0.7, min_tracking_confidence=0.7, max_num_hands=1) as hands:\n",
    "    while capture.isOpened():\n",
    "        ret, frame = capture.read()\n",
    "        if ret == False:\n",
    "            continue\n",
    "        frame = cv2.flip(frame, 1)\n",
    "        results = hands.process(cv2.cvtColor(frame, cv2.COLOR_BGR2RGB))\n",
    "        if results.multi_hand_landmarks != None:\n",
    "            index = results.multi_hand_landmarks[0].landmark[mediapipe.solutions.hands.HandLandmark.INDEX_FINGER_TIP]\n",
    "            thumb=results.multi_hand_landmarks[0].landmark[mediapipe.solutions.hands.HandLandmark.THUMB_TIP]\n",
    "            little=results.multi_hand_landmarks[0].landmark[mediapipe.solutions.hands.HandLandmark.PINKY_TIP]\n",
    "            show(index)\n",
    "            show(thumb)\n",
    "            show(little)\n",
    "        "
   ]
  },
  {
   "cell_type": "code",
   "execution_count": null,
   "metadata": {},
   "outputs": [],
   "source": []
  }
 ],
 "metadata": {
  "kernelspec": {
   "display_name": "Python 3.9.12 ('base')",
   "language": "python",
   "name": "python3"
  },
  "language_info": {
   "codemirror_mode": {
    "name": "ipython",
    "version": 3
   },
   "file_extension": ".py",
   "mimetype": "text/x-python",
   "name": "python",
   "nbconvert_exporter": "python",
   "pygments_lexer": "ipython3",
   "version": "3.9.12"
  },
  "orig_nbformat": 4,
  "vscode": {
   "interpreter": {
    "hash": "f2b718e513c62edc6ede9b03ad3c84aa738011d553e5bf64ca2c77beb104330f"
   }
  }
 },
 "nbformat": 4,
 "nbformat_minor": 2
}
