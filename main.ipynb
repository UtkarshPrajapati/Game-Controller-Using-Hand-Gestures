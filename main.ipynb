{
 "cells": [
  {
   "cell_type": "code",
   "execution_count": 9,
   "metadata": {},
   "outputs": [],
   "source": [
    "try:\n",
    "    import cv2\n",
    "    import numpy as np\n",
    "    import mediapipe\n",
    "    import matplotlib.pyplot as plt\n",
    "    import pyautogui\n",
    "    import mouse\n",
    "    import traceback\n",
    "    capture = cv2.VideoCapture(0)\n",
    "    fw = capture.get(cv2.CAP_PROP_FRAME_WIDTH)\n",
    "    fh = capture.get(cv2.CAP_PROP_FRAME_HEIGHT)\n",
    "\n",
    "    def show(i):\n",
    "        if i is not None:\n",
    "            coor = mediapipe.solutions.drawing_utils._normalized_to_pixel_coordinates(i.x,i.y,fw,fh)\n",
    "            if coor is not None:\n",
    "                cv2.putText(frame,str(coor),(coor[0]+20,coor[1]+20),cv2.FONT_HERSHEY_SIMPLEX, 1, (255,0, 0), 2)\n",
    "\n",
    "    with mediapipe.solutions.hands.Hands(static_image_mode=False, min_detection_confidence=0.7, min_tracking_confidence=0.7, max_num_hands=1) as hands:\n",
    "        while capture.isOpened():\n",
    "            ret, frame = capture.read()\n",
    "            if ret == False:\n",
    "                continue\n",
    "            frame = cv2.flip(frame, 1)\n",
    "            results = hands.process(cv2.cvtColor(frame, cv2.COLOR_BGR2RGB))\n",
    "            if results.multi_hand_landmarks != None:\n",
    "                thumb=results.multi_hand_landmarks[0].landmark[mediapipe.solutions.hands.HandLandmark.THUMB_TIP]\n",
    "                index = results.multi_hand_landmarks[0].landmark[mediapipe.solutions.hands.HandLandmark.INDEX_FINGER_TIP]\n",
    "                middle = results.multi_hand_landmarks[0].landmark[mediapipe.solutions.hands.HandLandmark.MIDDLE_FINGER_TIP]\n",
    "                ring= results.multi_hand_landmarks[0].landmark[mediapipe.solutions.hands.HandLandmark.RING_FINGER_TIP]\n",
    "                little=results.multi_hand_landmarks[0].landmark[mediapipe.solutions.hands.HandLandmark.PINKY_TIP]\n",
    "                show(thumb)\n",
    "                show(index)\n",
    "                show(middle)\n",
    "                show(ring)\n",
    "                show(little)\n",
    "            cv2.imshow('Mouse Controller', frame)\n",
    "            if cv2.waitKey(1) == 27: #escape key\n",
    "                break\n",
    "    cv2.destroyAllWindows()\n",
    "    capture.release()\n",
    "\n",
    "except:\n",
    "    cv2.destroyAllWindows()\n",
    "    capture.release()\n",
    "    traceback.print_exc()"
   ]
  },
  {
   "cell_type": "code",
   "execution_count": null,
   "metadata": {},
   "outputs": [],
   "source": []
  }
 ],
 "metadata": {
  "kernelspec": {
   "display_name": "Python 3.9.12 ('base')",
   "language": "python",
   "name": "python3"
  },
  "language_info": {
   "codemirror_mode": {
    "name": "ipython",
    "version": 3
   },
   "file_extension": ".py",
   "mimetype": "text/x-python",
   "name": "python",
   "nbconvert_exporter": "python",
   "pygments_lexer": "ipython3",
   "version": "3.9.12"
  },
  "orig_nbformat": 4,
  "vscode": {
   "interpreter": {
    "hash": "f2b718e513c62edc6ede9b03ad3c84aa738011d553e5bf64ca2c77beb104330f"
   }
  }
 },
 "nbformat": 4,
 "nbformat_minor": 2
}
