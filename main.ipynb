{
 "cells": [
  {
   "cell_type": "code",
   "execution_count": 14,
   "metadata": {},
   "outputs": [
    {
     "name": "stdout",
     "output_type": "stream",
     "text": [
      "[84.50443775329198, 42.19004621945797, 27.018512172212592, 34.655446902326915, 71.70076708097342]\n",
      "[83.24061508662703, 46.32493928760188, 29.017236257093817, 31.240998703626623, 71.1125867902441]\n",
      "[84.20213774008353, 48.05205510693585, 30.06659275674582, 33.941125496954285, 73.17103251970687]\n",
      "[90.60353193998564, 49.36598018878994, 35.014282800023196, 38.2099463490856, 77.02596964660685]\n",
      "[88.23831367382311, 48.166378315169176, 36.013886210738214, 40.31128874149275, 77.02596964660685]\n",
      "[88.86506625215559, 48.25971404805461, 36.0, 40.31128874149275, 77.02596964660685]\n",
      "[89.64373932405988, 49.254441424099, 36.0, 39.59797974644666, 79.02531240052139]\n",
      "[89.02246907382427, 50.24937810560445, 36.0, 39.59797974644666, 77.02596964660685]\n",
      "[89.02246907382427, 50.24937810560445, 36.013886210738214, 39.59797974644666, 78.02563681252464]\n",
      "[91.67878707749138, 51.62363799656123, 36.124783736376884, 39.698866482558415, 78.00640999302557]\n",
      "[90.78546139112804, 51.478150704935004, 37.0, 38.94868418830089, 78.02563681252464]\n",
      "[90.78546139112804, 51.478150704935004, 36.0, 38.94868418830089, 78.02563681252464]\n",
      "[91.80958555619343, 58.189346103904626, 42.0, 41.86884283091664, 76.94153624668539]\n",
      "[88.83692925805124, 55.36244214266564, 44.01136216933078, 41.036569057366385, 73.16419889536138]\n",
      "[87.09190547921202, 57.9396237474839, 43.046486500061775, 37.8021163428716, 75.50496672405067]\n"
     ]
    }
   ],
   "source": [
    "try:\n",
    "    import cv2\n",
    "    import numpy as np\n",
    "    import mediapipe\n",
    "    import matplotlib.pyplot as plt\n",
    "    import pyautogui\n",
    "    import mouse\n",
    "    import traceback\n",
    "    import math\n",
    "    capture = cv2.VideoCapture(0)\n",
    "    fw = capture.get(cv2.CAP_PROP_FRAME_WIDTH)\n",
    "    fh = capture.get(cv2.CAP_PROP_FRAME_HEIGHT)\n",
    "\n",
    "    def show(i):\n",
    "        if i is not None:\n",
    "            coor = mediapipe.solutions.drawing_utils._normalized_to_pixel_coordinates(i.x,i.y,fw,fh)\n",
    "            if coor is not None:\n",
    "                cv2.putText(frame,str(coor),(coor[0]+20,coor[1]+20),cv2.FONT_HERSHEY_SIMPLEX, 1, (255,0, 0), 2)\n",
    "\n",
    "    with mediapipe.solutions.hands.Hands(static_image_mode=False, min_detection_confidence=0.7, min_tracking_confidence=0.7, max_num_hands=1) as hands:\n",
    "        while capture.isOpened():\n",
    "            ret, frame = capture.read()\n",
    "            if ret == False:\n",
    "                continue\n",
    "            frame = cv2.flip(frame, 1)\n",
    "            results = hands.process(cv2.cvtColor(frame, cv2.COLOR_BGR2RGB))\n",
    "            if results.multi_hand_landmarks != None:\n",
    "                thumb=results.multi_hand_landmarks[0].landmark[mediapipe.solutions.hands.HandLandmark.THUMB_TIP]\n",
    "                index = results.multi_hand_landmarks[0].landmark[mediapipe.solutions.hands.HandLandmark.INDEX_FINGER_TIP]\n",
    "                middle = results.multi_hand_landmarks[0].landmark[mediapipe.solutions.hands.HandLandmark.MIDDLE_FINGER_TIP]\n",
    "                ring= results.multi_hand_landmarks[0].landmark[mediapipe.solutions.hands.HandLandmark.RING_FINGER_TIP]\n",
    "                little=results.multi_hand_landmarks[0].landmark[mediapipe.solutions.hands.HandLandmark.PINKY_TIP]\n",
    "                a=[thumb,index,middle,ring,little]\n",
    "                x0=0\n",
    "                y0=0\n",
    "                for i in a:\n",
    "                    x0+=i.x\n",
    "                    y0+=i.y\n",
    "                c=(x0/5,y0/5)\n",
    "                centroid = mediapipe.solutions.drawing_utils._normalized_to_pixel_coordinates(c[0],c[1],fw,fh)\n",
    "                frame=cv2.circle(frame, centroid, 10, (0, 0, 255), -1)\n",
    "                dis=[math.dist(mediapipe.solutions.drawing_utils._normalized_to_pixel_coordinates(i.x,i.y,fw,fh),centroid) for i in a]\n",
    "                print(dis)\n",
    "                show(thumb)\n",
    "                show(index)\n",
    "                show(middle)\n",
    "                show(ring)\n",
    "                show(little)\n",
    "            cv2.imshow('Mouse Controller', frame)\n",
    "            if cv2.waitKey(1) == 27: #escape key\n",
    "                break\n",
    "    cv2.destroyAllWindows()\n",
    "    capture.release()\n",
    "\n",
    "except:\n",
    "    cv2.destroyAllWindows()\n",
    "    capture.release()\n",
    "    traceback.print_exc()"
   ]
  },
  {
   "cell_type": "code",
   "execution_count": null,
   "metadata": {},
   "outputs": [],
   "source": []
  }
 ],
 "metadata": {
  "kernelspec": {
   "display_name": "Python 3.9.12 ('base')",
   "language": "python",
   "name": "python3"
  },
  "language_info": {
   "codemirror_mode": {
    "name": "ipython",
    "version": 3
   },
   "file_extension": ".py",
   "mimetype": "text/x-python",
   "name": "python",
   "nbconvert_exporter": "python",
   "pygments_lexer": "ipython3",
   "version": "3.9.12"
  },
  "orig_nbformat": 4,
  "vscode": {
   "interpreter": {
    "hash": "f2b718e513c62edc6ede9b03ad3c84aa738011d553e5bf64ca2c77beb104330f"
   }
  }
 },
 "nbformat": 4,
 "nbformat_minor": 2
}
